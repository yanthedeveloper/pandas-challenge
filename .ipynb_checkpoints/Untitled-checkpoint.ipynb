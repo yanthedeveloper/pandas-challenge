{
 "cells": [
  {
   "cell_type": "code",
   "execution_count": 1,
   "metadata": {},
   "outputs": [],
   "source": [
    "#Import Dependencies\n",
    "%matplotlib notebook\n",
    "import pandas as pd\n",
    "import numpy as np\n",
    "import matplotlib.pyplot as plt"
   ]
  },
  {
   "cell_type": "code",
   "execution_count": 6,
   "metadata": {
    "scrolled": false
   },
   "outputs": [
    {
     "data": {
      "text/html": [
       "<div>\n",
       "<style scoped>\n",
       "    .dataframe tbody tr th:only-of-type {\n",
       "        vertical-align: middle;\n",
       "    }\n",
       "\n",
       "    .dataframe tbody tr th {\n",
       "        vertical-align: top;\n",
       "    }\n",
       "\n",
       "    .dataframe thead th {\n",
       "        text-align: right;\n",
       "    }\n",
       "</style>\n",
       "<table border=\"1\" class=\"dataframe\">\n",
       "  <thead>\n",
       "    <tr style=\"text-align: right;\">\n",
       "      <th></th>\n",
       "      <th>Purchase ID</th>\n",
       "      <th>SN</th>\n",
       "      <th>Age</th>\n",
       "      <th>Gender</th>\n",
       "      <th>Item ID</th>\n",
       "      <th>Item Name</th>\n",
       "      <th>Price</th>\n",
       "    </tr>\n",
       "  </thead>\n",
       "  <tbody>\n",
       "    <tr>\n",
       "      <td>0</td>\n",
       "      <td>0</td>\n",
       "      <td>Lisim78</td>\n",
       "      <td>20</td>\n",
       "      <td>Male</td>\n",
       "      <td>108</td>\n",
       "      <td>Extraction, Quickblade Of Trembling Hands</td>\n",
       "      <td>3.53</td>\n",
       "    </tr>\n",
       "    <tr>\n",
       "      <td>1</td>\n",
       "      <td>1</td>\n",
       "      <td>Lisovynya38</td>\n",
       "      <td>40</td>\n",
       "      <td>Male</td>\n",
       "      <td>143</td>\n",
       "      <td>Frenzied Scimitar</td>\n",
       "      <td>1.56</td>\n",
       "    </tr>\n",
       "    <tr>\n",
       "      <td>2</td>\n",
       "      <td>2</td>\n",
       "      <td>Ithergue48</td>\n",
       "      <td>24</td>\n",
       "      <td>Male</td>\n",
       "      <td>92</td>\n",
       "      <td>Final Critic</td>\n",
       "      <td>4.88</td>\n",
       "    </tr>\n",
       "    <tr>\n",
       "      <td>3</td>\n",
       "      <td>3</td>\n",
       "      <td>Chamassasya86</td>\n",
       "      <td>24</td>\n",
       "      <td>Male</td>\n",
       "      <td>100</td>\n",
       "      <td>Blindscythe</td>\n",
       "      <td>3.27</td>\n",
       "    </tr>\n",
       "    <tr>\n",
       "      <td>4</td>\n",
       "      <td>4</td>\n",
       "      <td>Iskosia90</td>\n",
       "      <td>23</td>\n",
       "      <td>Male</td>\n",
       "      <td>131</td>\n",
       "      <td>Fury</td>\n",
       "      <td>1.44</td>\n",
       "    </tr>\n",
       "  </tbody>\n",
       "</table>\n",
       "</div>"
      ],
      "text/plain": [
       "   Purchase ID             SN  Age Gender  Item ID  \\\n",
       "0            0        Lisim78   20   Male      108   \n",
       "1            1    Lisovynya38   40   Male      143   \n",
       "2            2     Ithergue48   24   Male       92   \n",
       "3            3  Chamassasya86   24   Male      100   \n",
       "4            4      Iskosia90   23   Male      131   \n",
       "\n",
       "                                   Item Name  Price  \n",
       "0  Extraction, Quickblade Of Trembling Hands   3.53  \n",
       "1                          Frenzied Scimitar   1.56  \n",
       "2                               Final Critic   4.88  \n",
       "3                                Blindscythe   3.27  \n",
       "4                                       Fury   1.44  "
      ]
     },
     "execution_count": 6,
     "metadata": {},
     "output_type": "execute_result"
    }
   ],
   "source": [
    "#Read the csv file and import it to the Data Frame\n",
    "purchases = pd.DataFrame(pd.read_csv(\"Resources/purchase_data.csv\"))\n",
    "purchases.head()"
   ]
  },
  {
   "cell_type": "code",
   "execution_count": null,
   "metadata": {},
   "outputs": [],
   "source": []
  },
  {
   "cell_type": "code",
   "execution_count": 101,
   "metadata": {},
   "outputs": [
    {
     "name": "stdout",
     "output_type": "stream",
     "text": [
      "Total Number of Players: 576\n"
     ]
    }
   ],
   "source": [
    "#Get the total number of Players\n",
    "total_players = purchases['SN'].nunique()\n",
    "print(\"Total Number of Players:\", total_players)"
   ]
  },
  {
   "cell_type": "code",
   "execution_count": 43,
   "metadata": {},
   "outputs": [
    {
     "name": "stdout",
     "output_type": "stream",
     "text": [
      "Unique Items: 183\n",
      "Average price: 3.0509871794871795\n",
      "Number of Purchases: 780\n",
      "Total Revenue: 2379.77\n"
     ]
    }
   ],
   "source": [
    "#---------------------Purchasing Analysis (Total) -------------------------#\n",
    "#Number of Unique Items\n",
    "uniqueItems = purchases['Item ID'].nunique()\n",
    "print(\"Unique Items:\", uniqueItems)\n",
    "\n",
    "#Average Purchase Price\n",
    "average_price = purchases['Price'].sum()/total_players\n",
    "print(\"Average price:\", average_price)\n",
    "\n",
    "#Total Number of Purchases\n",
    "print(\"Number of Purchases:\", total_players)\n",
    "\n",
    "#Total Revenue\n",
    "total_revenue = purchases['Price'].sum()\n",
    "print(\"Total Revenue:\", total_revenue)"
   ]
  },
  {
   "cell_type": "code",
   "execution_count": 116,
   "metadata": {},
   "outputs": [
    {
     "name": "stdout",
     "output_type": "stream",
     "text": [
      "Male Count and Percentage: 484 % 84.03\n",
      "Female Count: 81 % 14.06\n",
      "Other / Nondisclosed Count: 11 % 1.91\n"
     ]
    }
   ],
   "source": [
    "#-------------------------Gender Demographics-----------------------------#\n",
    "\n",
    "#Percentage and Count of Male Players\n",
    "male_only = purchases[purchases[\"Gender\"] == \"Male\"]\n",
    "print(\"Male Count and Percentage:\", male_only[\"SN\"].nunique(), \"%\",\n",
    "     np.around((male_only[\"SN\"].nunique()/total_players)*100, 2))\n",
    "\n",
    "#Percentage and Count of Female Players\n",
    "female_only = purchases[purchases[\"Gender\"] == \"Female\"]\n",
    "print(\"Female Count:\", female_only[\"SN\"].nunique(),  \"%\",\n",
    "     np.around((female_only[\"SN\"].nunique()/total_players)*100, 2))\n",
    "      \n",
    "#Percentage and Count of Other/Non-Disclosed\n",
    "other_only = purchases[purchases[\"Gender\"] == \"Other / Non-Disclosed\"]\n",
    "print(\"Other / Nondisclosed Count:\", other_only[\"SN\"].nunique(),  \"%\",\n",
    "     np.around((other_only[\"SN\"].nunique()/total_players)*100, 2))"
   ]
  },
  {
   "cell_type": "code",
   "execution_count": 88,
   "metadata": {},
   "outputs": [
    {
     "name": "stdout",
     "output_type": "stream",
     "text": [
      "Male Purchase Count: 652\n",
      "Female Purchase Count: 113\n",
      "Other Purchase Count: 15\n",
      "Male APP: 3.0178527607361967\n",
      "Female APP: 3.203008849557522\n",
      "Female APP: 3.3459999999999996\n",
      "Male TPV: 1967.64\n",
      "Female TPV: 361.94\n",
      "Other TPV: 50.19\n",
      "Male APT: 3.0178527607361967\n",
      "Female APT: 3.203008849557522\n",
      "Other APT: 3.3459999999999996\n"
     ]
    }
   ],
   "source": [
    "#---------------------Purchasing Analysis (Gender)------------------------#\n",
    "#The below each broken by gender\n",
    "\n",
    "                        #Purchase Count#\n",
    "total\n",
    "#Male\n",
    "male_pc = male_only['Purchase ID'].count()\n",
    "print(\"Male Purchase Count:\", male_pc)\n",
    "#Female\n",
    "female_pc = female_only['Purchase ID'].count()\n",
    "print(\"Female Purchase Count:\", female_pc)\n",
    "#Other\n",
    "other_pc = other_only['Purchase ID'].count()\n",
    "print(\"Other Purchase Count:\", other_pc)\n",
    "\n",
    "                    #Average Purchase Price#\n",
    "#Male\n",
    "print(\"Male APP:\", male_only['Price'].sum()/male_pc)\n",
    "#Female\n",
    "print(\"Female APP:\", female_only['Price'].sum()/female_pc)\n",
    "#Other\n",
    "print(\"Female APP:\", other_only['Price'].sum()/other_pc)\n",
    "\n",
    "                     #Total Purchase Value#\n",
    "#Male\n",
    "male_tpv = male_only['Price'].sum()\n",
    "print(\"Male TPV:\", male_tpv)\n",
    "#Female\n",
    "female_tpv = female_only['Price'].sum()\n",
    "print(\"Female TPV:\", female_tpv)\n",
    "#Other\n",
    "other_tpv = other_only['Price'].sum()\n",
    "print(\"Other TPV:\", other_tpv)\n",
    "\n",
    "            #Average Purchase Total per Person by Gender#\n",
    "#Male\n",
    "print(\"Male APT:\", male_tpv/male_pc)\n",
    "#Female\n",
    "print(\"Female APT:\", female_tpv/female_pc)\n",
    "#Other\n",
    "print(\"Other APT:\", other_tpv/other_pc)"
   ]
  },
  {
   "cell_type": "code",
   "execution_count": 99,
   "metadata": {},
   "outputs": [
    {
     "data": {
      "text/plain": [
       "array([20, 40, 24, 23, 22, 36, 35, 21, 30, 38, 29, 11,  7, 19, 37, 10,  8,\n",
       "       18, 27, 33, 32, 25, 12, 34, 17, 15, 13, 26, 16, 28, 31, 39, 44, 41,\n",
       "        9, 14, 42, 43, 45], dtype=int64)"
      ]
     },
     "execution_count": 99,
     "metadata": {},
     "output_type": "execute_result"
    }
   ],
   "source": [
    "#---------------------------Age Demographics------------------------------#\n",
    "\n",
    "#The below each broken into bins of 4 years (ie. &lt;10, 10-14, 15-19, etc)\n",
    "bins = [6, 10, 14, 18, 22, 26, 30, 34, 38, 42, 46]\n",
    "labels = [\"Ages 7-10\", \"Ages 11-14\", \"Ages 15-18\", \"Ages 19-22\", \"Ages 23-26\",\n",
    "         \"Ages 27-30\", \"Ages 31-34\", \"Ages 35-38\", \"Ages 39-42\", \"Ages 43-46\"]\n",
    "\n",
    "#Purchase Count\n",
    "\n",
    "#Average Purchase Price\n",
    "\n",
    "#Total Purchase Value\n",
    "\n",
    "#Average Purchase Total per Person by Age Group"
   ]
  },
  {
   "cell_type": "code",
   "execution_count": null,
   "metadata": {},
   "outputs": [],
   "source": [
    "#"
   ]
  }
 ],
 "metadata": {
  "kernelspec": {
   "display_name": "Python 3",
   "language": "python",
   "name": "python3"
  },
  "language_info": {
   "codemirror_mode": {
    "name": "ipython",
    "version": 3
   },
   "file_extension": ".py",
   "mimetype": "text/x-python",
   "name": "python",
   "nbconvert_exporter": "python",
   "pygments_lexer": "ipython3",
   "version": "3.7.4"
  }
 },
 "nbformat": 4,
 "nbformat_minor": 2
}
